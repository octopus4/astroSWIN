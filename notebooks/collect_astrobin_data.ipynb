{
 "cells": [
  {
   "cell_type": "code",
   "execution_count": null,
   "metadata": {},
   "outputs": [],
   "source": [
    "import json\n",
    "import re\n",
    "import requests\n",
    "\n",
    "from PIL import Image\n",
    "from time import sleep\n",
    "from tqdm import tqdm"
   ]
  },
  {
   "cell_type": "code",
   "execution_count": null,
   "metadata": {
    "scrolled": true
   },
   "outputs": [],
   "source": [
    "page_num = 1\n",
    "result_urls = []\n",
    "\n",
    "while True:\n",
    "    print(f'page #{page_num}')\n",
    "    res = requests.get(\n",
    "        f'https://app.astrobin.com/api/v2/iotd/iotd-archive/?page={page_num}',\n",
    "        headers={'Content-Type': 'application/json'}\n",
    "    )\n",
    "    iotd_source = re.findall(r'\\<\\!DOCTYPE html\\>([\\w\\W\\d\\D\\s\\S]+)\\<\\/span\\>(\\{[\\w\\W\\d\\D\\s\\S]+\\})</pre>', res.text)\n",
    "    iotd_object = json.loads(iotd_source[0][1].replace('\"', '\\\\\"').replace('&quot;', '\"'))\n",
    "    page_urls = [re.findall(r'href=\\\"(.+)\\\"', r['image']['thumbnails'][-1]['url'])[0] for r in iotd_object['results']]\n",
    "    result_urls.extend(page_urls)\n",
    "    if iotd_object['next'] is None:\n",
    "        break\n",
    "    page_num += 1"
   ]
  },
  {
   "cell_type": "code",
   "execution_count": null,
   "metadata": {},
   "outputs": [],
   "source": [
    "result_urls = [re.findall(r'(.+?)\\\"', url)[0] for url in result_urls]"
   ]
  },
  {
   "cell_type": "code",
   "execution_count": null,
   "metadata": {},
   "outputs": [],
   "source": [
    "for url in tqdm(result_urls):\n",
    "    image = Image.open(requests.get(url, stream=True).raw).convert('RGB')\n",
    "    image.save('astrobin_iotd/' + url.replace('https://cdn.astrobin.com/thumbs/', ''))\n",
    "    sleep(0.25)"
   ]
  }
 ],
 "metadata": {
  "kernelspec": {
   "display_name": "Python 3 (ipykernel)",
   "language": "python",
   "name": "python3"
  },
  "language_info": {
   "codemirror_mode": {
    "name": "ipython",
    "version": 3
   },
   "file_extension": ".py",
   "mimetype": "text/x-python",
   "name": "python",
   "nbconvert_exporter": "python",
   "pygments_lexer": "ipython3",
   "version": "3.12.5"
  }
 },
 "nbformat": 4,
 "nbformat_minor": 4
}
