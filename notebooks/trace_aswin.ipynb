{
 "cells": [
  {
   "cell_type": "code",
   "execution_count": null,
   "id": "e73ee1b0-dd97-44cc-a793-a0ed14737b49",
   "metadata": {},
   "outputs": [],
   "source": [
    "import torch\n",
    "\n",
    "from torch.cuda import amp\n",
    "from transformers import Swin2SRForImageSuperResolution, Swin2SRImageProcessor"
   ]
  },
  {
   "cell_type": "code",
   "execution_count": 2,
   "id": "9388f400-a6f3-4132-b6ea-64279fc18692",
   "metadata": {},
   "outputs": [],
   "source": [
    "class AstroSwin2SR(Swin2SRForImageSuperResolution):\n",
    "    def __init__(self, config):\n",
    "        super().__init__(config)\n",
    "        del self.upsample\n",
    "        self.resample = torch.nn.Conv2d(60, 3, kernel_size=(3, 3), stride=(1, 1), padding=(1, 1))\n",
    "\n",
    "    def forward(self, pixel_values: torch.Tensor, labels: torch.Tensor = None):\n",
    "        output = self.swin2sr(pixel_values=pixel_values)\n",
    "        output = self.resample(output.last_hidden_state)\n",
    "        return {'outputs': output}"
   ]
  },
  {
   "cell_type": "code",
   "execution_count": null,
   "id": "d92e96ec-de8e-467d-bbfd-1c73a8fa59d0",
   "metadata": {},
   "outputs": [],
   "source": [
    "device = torch.device('cuda')\n",
    "aswin = AstroSwin2SR.from_pretrained('models/astroswin_v1').eval().to(device)\n",
    "processor = Swin2SRImageProcessor.from_pretrained('models/astroswin_v1')"
   ]
  },
  {
   "cell_type": "code",
   "execution_count": null,
   "id": "65385116-ba62-46dd-a55d-331f27a58bac",
   "metadata": {},
   "outputs": [],
   "source": [
    "mock_tensor = torch.rand((1, 3, 256, 256), dtype=torch.float16, device=device)\n",
    "\n",
    "with torch.no_grad():\n",
    "    with amp.autocast(enabled=True):\n",
    "        torch.onnx.export(\n",
    "            aswin,                         # model to export\n",
    "            (mock_tensor,),                # inputs of the model,\n",
    "            \"aswin_v1_0.onnx\",             # filename of the ONNX model\n",
    "            export_params=True,\n",
    "            input_names=[\"pixel_values\"],  # Rename inputs for the ONNX model\n",
    "            opset_version=17,\n",
    "            do_constant_folding=True,\n",
    "            dynamo=False                   # True or False to select the exporter to use\n",
    "        )"
   ]
  },
  {
   "cell_type": "code",
   "execution_count": null,
   "id": "29620cf3-bfad-4f3e-bfc7-6c13039ac21f",
   "metadata": {},
   "outputs": [],
   "source": []
  }
 ],
 "metadata": {
  "kernelspec": {
   "display_name": "python3.12",
   "language": "python",
   "name": "python3.12"
  },
  "language_info": {
   "codemirror_mode": {
    "name": "ipython",
    "version": 3
   },
   "file_extension": ".py",
   "mimetype": "text/x-python",
   "name": "python",
   "nbconvert_exporter": "python",
   "pygments_lexer": "ipython3",
   "version": "3.12.5"
  }
 },
 "nbformat": 4,
 "nbformat_minor": 5
}
