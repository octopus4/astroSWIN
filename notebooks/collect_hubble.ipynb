{
 "cells": [
  {
   "cell_type": "code",
   "execution_count": null,
   "id": "09f94fab-b727-4da6-a8e3-d8edf1232050",
   "metadata": {},
   "outputs": [],
   "source": [
    "import re\n",
    "import requests\n",
    "\n",
    "from tqdm import tqdm\n",
    "from PIL import Image"
   ]
  },
  {
   "cell_type": "code",
   "execution_count": null,
   "id": "e88ce86a-b018-483a-8b39-74deb27fae64",
   "metadata": {},
   "outputs": [],
   "source": [
    "Image.MAX_IMAGE_PIXELS = None\n",
    "\n",
    "categories = ['galaxies', 'nebulae']\n",
    "prefix = ['large', 'publicationjpg']"
   ]
  },
  {
   "cell_type": "code",
   "execution_count": null,
   "id": "1678963d",
   "metadata": {},
   "outputs": [],
   "source": [
    "category = categories[1]"
   ]
  },
  {
   "cell_type": "code",
   "execution_count": null,
   "id": "2332c59a-146c-45d4-804a-f590a187986a",
   "metadata": {},
   "outputs": [],
   "source": [
    "img_ids = []\n",
    "for i in tqdm(range(20)):\n",
    "    response = requests.get(f'https://esahubble.org/images/archive/category/{category}/page/{i+1}/')\n",
    "    if not response.ok:\n",
    "        break\n",
    "    parsed = re.findall(r'<script>var images = \\[(.+?)\\]', re.sub(r'[\\s]+', ' ', re.sub(r'[\\n]+', '', response.text)))[0]\n",
    "    img_ids.extend(re.findall(r'id: \\'(.+?)\\'', parsed))"
   ]
  },
  {
   "cell_type": "code",
   "execution_count": null,
   "id": "6e7481cb-c8e1-43b9-b02e-e969da58ee97",
   "metadata": {},
   "outputs": [],
   "source": [
    "for img_id in tqdm(img_ids):\n",
    "    for p in prefix:\n",
    "        img_url = f'https://cdn.esahubble.org/archives/images/{p}/{img_id}.jpg'\n",
    "        is_ok = requests.get(img_url).ok\n",
    "        if not is_ok:\n",
    "            continue\n",
    "        image = Image.open(requests.get(img_url, stream=True).raw).convert('RGB')\n",
    "        image.save(f'hubble/{p}_{img_id}.jpg')\n",
    "        break"
   ]
  },
  {
   "cell_type": "code",
   "execution_count": null,
   "id": "03b6744c-3cba-4677-998b-518dd6c14d4c",
   "metadata": {},
   "outputs": [],
   "source": []
  }
 ],
 "metadata": {
  "kernelspec": {
   "display_name": "Python 3 (ipykernel)",
   "language": "python",
   "name": "python3"
  },
  "language_info": {
   "codemirror_mode": {
    "name": "ipython",
    "version": 3
   },
   "file_extension": ".py",
   "mimetype": "text/x-python",
   "name": "python",
   "nbconvert_exporter": "python",
   "pygments_lexer": "ipython3",
   "version": "3.12.5"
  }
 },
 "nbformat": 4,
 "nbformat_minor": 5
}
