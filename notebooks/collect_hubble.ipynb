{
 "cells": [
  {
   "cell_type": "code",
   "execution_count": null,
   "id": "09f94fab-b727-4da6-a8e3-d8edf1232050",
   "metadata": {},
   "outputs": [],
   "source": [
    "import re\n",
    "import requests\n",
    "import json\n",
    "\n",
    "from PIL import Image\n",
    "from tqdm import tqdm"
   ]
  },
  {
   "cell_type": "code",
   "execution_count": null,
   "id": "eb1c96ef-67ec-4895-8c97-a734262778ed",
   "metadata": {},
   "outputs": [],
   "source": [
    "Image.MAX_IMAGE_PIXELS = None"
   ]
  },
  {
   "cell_type": "code",
   "execution_count": null,
   "id": "2332c59a-146c-45d4-804a-f590a187986a",
   "metadata": {},
   "outputs": [],
   "source": [
    "img_ids = []\n",
    "for i in tqdm(range(10)):\n",
    "    response = requests.get(f'https://esahubble.org/images/archive/category/galaxies/page/{i+1}/')\n",
    "    parsed = re.findall(r'<script>var images = \\[(.+?)\\]', re.sub(r'[\\s]+', ' ', re.sub(r'[\\n]+', '', response.text)))[0]\n",
    "    img_ids.extend(re.findall(r'id: \\'(.+?)\\'', parsed))"
   ]
  },
  {
   "cell_type": "code",
   "execution_count": null,
   "id": "6e7481cb-c8e1-43b9-b02e-e969da58ee97",
   "metadata": {},
   "outputs": [],
   "source": [
    "for img_id in tqdm(img_ids[21:]):\n",
    "    img_url = f'https://cdn.esahubble.org/archives/images/large/{img_id}.jpg'\n",
    "    image = Image.open(requests.get(img_url, stream=True).raw).convert('RGB')\n",
    "    image.save(f'hubble/{img_id}.jpg')"
   ]
  },
  {
   "cell_type": "code",
   "execution_count": null,
   "id": "2f78e20e-0e6a-4c09-ac37-26124379b61e",
   "metadata": {},
   "outputs": [],
   "source": [
    "# сейчас работает некорректно, потому что в некоторых карточках нет large jpeg'ов, вместо этого publication-ready\n",
    "# (!) TODO: добавить парсинг страницы конкретного снимка + выгрузку оттуда либо large jpeg, либо publication jpeg"
   ]
  }
 ],
 "metadata": {
  "kernelspec": {
   "display_name": "Python 3 (ipykernel)",
   "language": "python",
   "name": "python3"
  },
  "language_info": {
   "codemirror_mode": {
    "name": "ipython",
    "version": 3
   },
   "file_extension": ".py",
   "mimetype": "text/x-python",
   "name": "python",
   "nbconvert_exporter": "python",
   "pygments_lexer": "ipython3",
   "version": "3.12.5"
  }
 },
 "nbformat": 4,
 "nbformat_minor": 5
}
