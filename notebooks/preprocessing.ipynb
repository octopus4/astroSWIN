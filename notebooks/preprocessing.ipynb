{
 "cells": [
  {
   "cell_type": "code",
   "execution_count": null,
   "id": "7dfbb988-1105-45c8-aa15-c9403b7bed53",
   "metadata": {},
   "outputs": [],
   "source": [
    "import os\n",
    "import pandas as pd\n",
    "\n",
    "from pathlib import Path\n",
    "from PIL import Image\n",
    "from random import randint\n",
    "from tqdm import tqdm"
   ]
  },
  {
   "cell_type": "code",
   "execution_count": null,
   "id": "a948e59f",
   "metadata": {},
   "outputs": [],
   "source": [
    "Image.MAX_IMAGE_PIXELS = None\n",
    "window_size = 256"
   ]
  },
  {
   "cell_type": "code",
   "execution_count": null,
   "id": "464a7bae-b6d1-4d24-b60e-6544a16e6363",
   "metadata": {},
   "outputs": [],
   "source": [
    "source_folder = 'source_images/hq_images/'\n",
    "images = os.listdir(source_folder)\n",
    "\n",
    "\n",
    "for img_path in tqdm(images):\n",
    "    path = Path(source_folder + img_path)\n",
    "    image = Image.open(path)\n",
    "    filename = path.stem\n",
    "    extension = path.parts[-1].split('.')[-1]\n",
    "    w, h = image.size\n",
    "    sample_count = max(0, min(w, h) // window_size - 1) * 2\n",
    "    for i in range(sample_count):\n",
    "        x, y = randint(0, w - window_size), randint(0, h - window_size)\n",
    "        subframe = image.crop((x, y, x + window_size, y + window_size))\n",
    "        subframe.save(f'source_images/tiny_frames/{filename}_sub_{i}.{extension}')"
   ]
  },
  {
   "cell_type": "code",
   "execution_count": null,
   "id": "c46241f4-a350-4275-a069-3446379d549d",
   "metadata": {},
   "outputs": [],
   "source": [
    "df = pd.DataFrame(data={'paths': os.listdir('source_images/tiny_frames')})\n",
    "\n",
    "df['split'] = 'train'\n",
    "df.loc[df.sample(frac=0.3).index, 'split'] = 'test'\n",
    "df[df.split == 'train'].paths.apply(lambda p: os.rename(f'source_images/tiny_frames/{p}', f'source_images/train/{p}'))"
   ]
  }
 ],
 "metadata": {
  "kernelspec": {
   "display_name": "python3.12",
   "language": "python",
   "name": "python3.12"
  },
  "language_info": {
   "codemirror_mode": {
    "name": "ipython",
    "version": 3
   },
   "file_extension": ".py",
   "mimetype": "text/x-python",
   "name": "python",
   "nbconvert_exporter": "python",
   "pygments_lexer": "ipython3",
   "version": "3.12.5"
  }
 },
 "nbformat": 4,
 "nbformat_minor": 5
}
