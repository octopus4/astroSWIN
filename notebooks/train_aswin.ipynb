{
  "cells": [
    {
      "cell_type": "markdown",
      "metadata": {},
      "source": [
        "# Download Data"
      ]
    },
    {
      "cell_type": "code",
      "execution_count": null,
      "metadata": {
        "colab": {
          "base_uri": "https://localhost:8080/"
        },
        "collapsed": true,
        "id": "CkGWkZ-1MY3t",
        "outputId": "5c7e8f52-bfaf-4aab-cf66-909aa2fc49e9"
      },
      "outputs": [],
      "source": [
        "!gdown 1b5GsQwGFhvlb3NFgtJfGVtNQR8Cs7Znd -O astroswin.zip && unzip -qq astroswin.zip && rm -rf astroswin.zip # the most recent checkpoint of aswin\n",
        "!gdown 15AC-BMDLuafKRs-b9CaC3jYmi4gIkLVY -O dataset.zip && unzip -qq dataset.zip && rm -f dataset.zip # manually mined linear data"
      ]
    },
    {
      "cell_type": "markdown",
      "metadata": {},
      "source": [
        "# Training Pipeline"
      ]
    },
    {
      "cell_type": "code",
      "execution_count": null,
      "metadata": {
        "id": "GJQyTfQY61Jf"
      },
      "outputs": [],
      "source": [
        "import cv2\n",
        "import numpy as np\n",
        "import os\n",
        "import random\n",
        "import torch\n",
        "import torch.nn.functional as F\n",
        "\n",
        "from torch.utils.data import Dataset\n",
        "from torchvision.transforms.v2 import RandomCrop, GaussianBlur, Compose, RandomRotation\n",
        "from transformers import Swin2SRForImageSuperResolution, Swin2SRImageProcessor, Trainer, TrainingArguments"
      ]
    },
    {
      "cell_type": "code",
      "execution_count": null,
      "metadata": {
        "id": "DDeOCRJE61Jh"
      },
      "outputs": [],
      "source": [
        "device = torch.device('cuda' if torch.cuda.is_available() else 'cpu')"
      ]
    },
    {
      "cell_type": "code",
      "execution_count": null,
      "metadata": {
        "id": "8EJPTvhw4vWg"
      },
      "outputs": [],
      "source": [
        "dtype2factor = {\n",
        "    'float32': float(2**32 - 1),\n",
        "    'float16': float(2**16 - 1),\n",
        "    'uint8': int(2**8 - 1)\n",
        "}"
      ]
    },
    {
      "cell_type": "code",
      "execution_count": null,
      "metadata": {
        "id": "xKEqALua61Jh"
      },
      "outputs": [],
      "source": [
        "def random_downsample(image: np.ndarray):\n",
        "    base_dim = 256\n",
        "    downscale_range = min(image.shape[:2]) // base_dim\n",
        "    downscale = random.randint(1, min(2, downscale_range)) if downscale_range > 1 else 1\n",
        "    return cv2.resize(image, dsize=None, fx=1/downscale, fy=1/downscale, interpolation=cv2.INTER_LANCZOS4)\n",
        "\n",
        "def init_process(image: np.ndarray, processor: Swin2SRImageProcessor) -> np.ndarray:\n",
        "    if len(image.shape) == 2:\n",
        "        image = np.tile(np.expand_dims(image, -1), (1, 1, 3))\n",
        "    image = image[:, :, ::-1]\n",
        "    if image.min() >= 0 and image.max() <= 1:\n",
        "        return processor(image, do_rescale=False, return_tensors='np')['pixel_values']\n",
        "    return processor(image, rescale_factor=1/dtype2factor[str(image.dtype)], return_tensors='np')['pixel_values']\n",
        "\n",
        "def to_tensor(image: np.ndarray) -> torch.Tensor:\n",
        "    return torch.Tensor(image.transpose(2, 1, 0))\n",
        "\n",
        "rotator = RandomRotation(90, expand=True, fill=0.6)\n",
        "crop = RandomCrop((256, 256))"
      ]
    },
    {
      "cell_type": "code",
      "execution_count": null,
      "metadata": {
        "id": "hCjAnifW61Ji"
      },
      "outputs": [],
      "source": [
        "def sharp_loss(pred: torch.Tensor, target: torch.Tensor, alpha: float = 0.7):\n",
        "    content_loss = F.l1_loss(pred, target)\n",
        "    laplacian_kernel = torch.tensor([\n",
        "        [0, 1, 0],\n",
        "        [1, -4, 1],\n",
        "        [0, 1, 0]\n",
        "    ], dtype=torch.float32).view(1, 1, 3, 3).repeat(1, 3, 1, 1).to(pred.device)\n",
        "    pred_edges = F.conv2d(pred, laplacian_kernel, padding=1)\n",
        "    target_edges = F.conv2d(target, laplacian_kernel, padding=1)\n",
        "    edge_loss = F.l1_loss(pred_edges, target_edges)\n",
        "\n",
        "    return alpha * content_loss + (1 - alpha) * edge_loss\n",
        "\n",
        "def gradient_loss(pred: torch.Tensor, target: torch.Tensor, temperature: float = 1):\n",
        "    pred_grad_x = pred[:, :, :, :-1] - pred[:, :, :, 1:]\n",
        "    pred_grad_y = pred[:, :, :-1, :] - pred[:, :, 1:, :]\n",
        "    target_grad_x = target[:, :, :, :-1] - target[:, :, :, 1:]\n",
        "    target_grad_y = target[:, :, :-1, :] - target[:, :, 1:, :]\n",
        "\n",
        "    mask_x = F.sigmoid((target_grad_x - 0.5) / temperature)\n",
        "    mask_y = F.sigmoid((target_grad_y - 0.5) / temperature)\n",
        "\n",
        "    loss_x = mask_x * F.l1_loss(pred_grad_x, target_grad_x)\n",
        "    loss_y = mask_y * F.l1_loss(pred_grad_y, target_grad_y)\n",
        "    return (loss_x.mean() + loss_y.mean()) / 2\n",
        "\n",
        "def differentiable_histogram(\n",
        "    x: torch.Tensor, bins: int = 256, bandwidth: float = 0.01\n",
        ") -> torch.Tensor:\n",
        "    batch_size, channels = x.shape[0], x.shape[1]\n",
        "    bin_centers = torch.linspace(0, 1, bins, device=x.device)  # [bins]\n",
        "    x_flat = x.reshape(batch_size, channels, -1, 1)  # [B, C, H*W, 1]\n",
        "    distances = torch.abs(x_flat - bin_centers)    # [B, C, H*W, bins]\n",
        "    weights = torch.clamp(1 - distances / bandwidth, 0, 1)\n",
        "    hist = torch.sum(weights, dim=2)  # [B, C, bins]\n",
        "    return hist / (x.shape[2] * x.shape[3])  # normalize\n",
        "\n",
        "def hist_loss(pred: torch.Tensor, target: torch.Tensor, bins: int = 256, bandwidth: float = 0.1) -> torch.Tensor:\n",
        "    hist_pred = differentiable_histogram(pred, bins=bins, bandwidth=bandwidth)\n",
        "    hist_target = differentiable_histogram(target, bins=bins, bandwidth=bandwidth)\n",
        "\n",
        "    return F.l1_loss(hist_pred, hist_target)"
      ]
    },
    {
      "cell_type": "code",
      "execution_count": null,
      "metadata": {
        "id": "Ur4yuSc861Ji"
      },
      "outputs": [],
      "source": [
        "def motion_blur(image: torch.Tensor, length: int = 15, angle: float = 0.0) -> torch.Tensor:\n",
        "    def _get_motion_kernel(length: int, angle_deg: float) -> torch.Tensor:\n",
        "        import math\n",
        "        angle = math.radians(angle_deg)\n",
        "        kernel = torch.zeros((length, length))\n",
        "        center = length // 2\n",
        "\n",
        "        for i in range(length):\n",
        "            dx = i - center\n",
        "            dy = round(math.tan(angle) * dx)\n",
        "            y = center + dy\n",
        "            if 0 <= y < length:\n",
        "                kernel[y, i] = 1.0\n",
        "        return kernel / kernel.sum()\n",
        "\n",
        "    length |= 1  # make odd to have an odd-sized kernel\n",
        "    kernel = _get_motion_kernel(length, angle)\n",
        "    return F.conv2d(\n",
        "        image,\n",
        "        kernel.view(1, 1, length, length).repeat(3, 1, 1, 1),\n",
        "        padding=length // 2,\n",
        "        groups=image.shape[1],\n",
        "    )\n",
        "\n",
        "def bokeh_blur(image: torch.Tensor, radius: int = 3) -> torch.Tensor:\n",
        "    kernel_size = 2 * radius + 1\n",
        "    kernel = torch.zeros((kernel_size, kernel_size))\n",
        "    y, x = torch.meshgrid(\n",
        "        torch.linspace(-radius, radius, kernel_size),\n",
        "        torch.linspace(-radius, radius, kernel_size),\n",
        "        indexing='ij',\n",
        "    )\n",
        "    mask = (x**2 + y**2) <= radius**2\n",
        "    kernel[mask] = 1.0\n",
        "    kernel /= kernel.sum()\n",
        "    return F.conv2d(\n",
        "        image,\n",
        "        kernel.view(1, 1, kernel_size, kernel_size).repeat(3, 1, 1, 1),\n",
        "        padding=kernel_size//2,\n",
        "        groups=image.shape[1]\n",
        "    )\n",
        "\n",
        "def anisotropic_gaussian_blur(\n",
        "    image: torch.Tensor,\n",
        "    sigma_x: float = 1.0,\n",
        "    sigma_y: float = 1.0,\n",
        "    angle: float = 0.0\n",
        ") -> torch.Tensor:\n",
        "    def _get_rotated_gaussian_kernel(sigma_x, sigma_y, angle_deg, kernel_size):\n",
        "        import math\n",
        "        angle = math.radians(angle_deg)\n",
        "        x = torch.linspace(-kernel_size//2, kernel_size//2, kernel_size)\n",
        "        y = torch.linspace(-kernel_size//2, kernel_size//2, kernel_size)\n",
        "        x, y = torch.meshgrid(x, y, indexing='ij')\n",
        "\n",
        "        x_rot = x * math.cos(angle) + y * math.sin(angle)\n",
        "        y_rot = -x * math.sin(angle) + y * math.cos(angle)\n",
        "\n",
        "        kernel = torch.exp(-(x_rot**2 / (2 * sigma_x**2) + y_rot**2 / (2 * sigma_y**2)))\n",
        "        return kernel / kernel.sum()\n",
        "\n",
        "    kernel_size = int(2 * 3 * max(sigma_x, sigma_y) + 1) | 1  # make odd to have an odd-sized kernel\n",
        "    kernel = _get_rotated_gaussian_kernel(sigma_x, sigma_y, angle, kernel_size)\n",
        "\n",
        "    return F.conv2d(\n",
        "        image,\n",
        "        kernel.view(1, 1, kernel_size, kernel_size).repeat(3, 1, 1, 1),\n",
        "        padding=kernel_size//2,\n",
        "        groups=image.shape[1]\n",
        "    )"
      ]
    },
    {
      "cell_type": "code",
      "execution_count": null,
      "metadata": {
        "id": "mGOzPb3361Jj"
      },
      "outputs": [],
      "source": [
        "gaussian_blur = GaussianBlur(kernel_size=3, sigma=1.0)\n",
        "\n",
        "blur_functions = [\n",
        "    lambda x: gaussian_blur(x),\n",
        "    lambda x: motion_blur(x, length=random.randint(1, 3), angle=random.randint(0, 360)),\n",
        "    lambda x: anisotropic_gaussian_blur(\n",
        "        x,\n",
        "        sigma_x=1,\n",
        "        sigma_y=1,\n",
        "        angle=random.randint(0, 360),\n",
        "    ),\n",
        "    lambda x: bokeh_blur(x,radius=random.randint(1, 3)),\n",
        "]"
      ]
    },
    {
      "cell_type": "code",
      "execution_count": null,
      "metadata": {
        "id": "sP0n8sUav7ab"
      },
      "outputs": [],
      "source": [
        "def filter_paths(paths: list, min_size: int = 256) -> list:\n",
        "    from PIL import Image\n",
        "    Image.MAX_IMAGE_PIXELS = None\n",
        "\n",
        "    res = []\n",
        "    for path in paths:\n",
        "        if not path.endswith(('jpg', 'png', 'tiff', 'tif', 'jpeg')):\n",
        "            continue\n",
        "        if path.endswith(('tiff', 'tif')):\n",
        "            if min(cv2.imread(path, cv2.IMREAD_UNCHANGED).shape[:2]) >= min_size:\n",
        "                res.append(path)\n",
        "        else:\n",
        "            if min(Image.open(path).size) >= min_size:\n",
        "                res.append(path)\n",
        "    return res"
      ]
    },
    {
      "cell_type": "code",
      "execution_count": null,
      "metadata": {
        "id": "WcnO_thgL-mp"
      },
      "outputs": [],
      "source": [
        "T = -0.51082562376  # ln(0.6), where 0.6 is a desired expected value of autostretched image\n",
        "\n",
        "def autostretch_torch(image: torch.Tensor, eps: float = 1e-2):\n",
        "    im_min, im_max = image.min(), image.max()\n",
        "    min_max_scaled = (image - im_min) / (im_max - im_min)\n",
        "    mean = min_max_scaled.mean()\n",
        "    mean_scaled = ((1+eps)/(mean+eps)) * mean\n",
        "    best_gamma =  T / torch.log(mean_scaled)\n",
        "    scale = (1 + eps) / (min_max_scaled + eps)\n",
        "    scaled_image = (min_max_scaled * scale) ** best_gamma\n",
        "    return {\n",
        "        'labels': scaled_image,\n",
        "        'scale': scale,\n",
        "        'gamma': best_gamma,\n",
        "        'min': im_min,\n",
        "        'max': im_max,\n",
        "    }"
      ]
    },
    {
      "cell_type": "code",
      "execution_count": null,
      "metadata": {
        "id": "W6odUp_a61Jk"
      },
      "outputs": [],
      "source": [
        "class AstroDataset(Dataset):\n",
        "    def __init__(\n",
        "        self,\n",
        "        root_dir: str,\n",
        "        processor: Swin2SRImageProcessor,\n",
        "        transform: Compose,\n",
        "        is_linear: bool = False,\n",
        "        corrupt_dropout: float = 0.05,\n",
        "        noise_base_amount: float = 0.2,\n",
        "        **kwargs\n",
        "    ):\n",
        "        super().__init__(**kwargs)\n",
        "        self.root_dir = root_dir\n",
        "        self.image_paths = filter_paths([os.path.join(root_dir, f) for f in os.listdir(root_dir)])\n",
        "        self.corrupt_dropout = corrupt_dropout\n",
        "        self.processor = processor\n",
        "        self.transform = transform\n",
        "        self.is_linear = is_linear\n",
        "        self.noise_base_amount = noise_base_amount\n",
        "\n",
        "    def __len__(self):\n",
        "        return len(self.image_paths)\n",
        "\n",
        "    def _corrupt(self, image: torch.Tensor):\n",
        "        if random.random() >= self.corrupt_dropout:\n",
        "            blur_composition = random.choices(blur_functions, k=random.randint(2, len(blur_functions)))\n",
        "            for blur in blur_composition:\n",
        "                image = blur(image)\n",
        "        return image\n",
        "\n",
        "    def _get_noise_pattern(self, image: torch.Tensor):\n",
        "        return torch.randn(image.shape) * random.random() * self.noise_base_amount\n",
        "\n",
        "    def __getitem__(self, idx):\n",
        "        img_path = self.image_paths[idx]\n",
        "        image = cv2.imread(img_path, cv2.IMREAD_UNCHANGED)\n",
        "        image = self.transform(image)\n",
        "        stretch_output = autostretch_torch(image) if self.is_linear else {'labels': image}\n",
        "        corrupted_tensor = self._corrupt(stretch_output['labels'].unsqueeze(0).clone().detach())[0]\n",
        "        item = {'pixel_values': corrupted_tensor, **stretch_output}\n",
        "        noise_pattern = self._get_noise_pattern(image)\n",
        "        item['pixel_values'] += noise_pattern\n",
        "        item['labels'] += noise_pattern\n",
        "        return item\n",
        "\n",
        "class AstroSwin2SR(Swin2SRForImageSuperResolution):\n",
        "    def __init__(self, config):\n",
        "        super().__init__(config)\n",
        "        del self.upsample\n",
        "        self.resample = torch.nn.Conv2d(60, 3, kernel_size=(3, 3), stride=(1, 1), padding=(1, 1))\n",
        "\n",
        "    def forward(self, pixel_values: torch.Tensor, labels: torch.Tensor = None):\n",
        "        output = self.swin2sr(pixel_values=pixel_values)\n",
        "        output = self.resample(output.last_hidden_state)\n",
        "        return {'outputs': output}"
      ]
    },
    {
      "cell_type": "code",
      "execution_count": null,
      "metadata": {
        "id": "FjDhBC3Q61Jk"
      },
      "outputs": [],
      "source": [
        "class TrainerWithCustomLoss(Trainer):\n",
        "    def __init__(self, **kwargs):\n",
        "        super().__init__(**kwargs)\n",
        "        self.process_state = []\n",
        "\n",
        "    def compute_loss(self, model, inputs, return_outputs=False, **kwargs):\n",
        "        def _calculate_loss(outputs: torch.Tensor, labels: torch.Tensor):\n",
        "            h_loss = hist_loss(outputs, labels, bins=256, bandwidth=5e-2)\n",
        "            g_loss = gradient_loss(outputs, labels, temperature=0.5)\n",
        "            d_loss = sharp_loss(outputs, labels, alpha=0.65)\n",
        "            return d_loss * 2.0 + g_loss * 2.0 + h_loss * 1.0\n",
        "\n",
        "        labels = inputs.pop('labels') if 'labels' in inputs else None\n",
        "        scale = inputs.pop('scale') if 'scale' in inputs else None\n",
        "        gamma = inputs.pop('gamma') if 'gamma' in inputs else None\n",
        "        image_min = inputs.pop('min') if 'min' in inputs else None\n",
        "        image_max = inputs.pop('max') if 'max' in inputs else None\n",
        "\n",
        "        result = model(**inputs)\n",
        "        outputs = result['outputs']\n",
        "\n",
        "        # Save past state if it exists\n",
        "        # TODO: this needs to be fixed and made cleaner later.\n",
        "        if self.args.past_index >= 0:\n",
        "            self._past = outputs[self.args.past_index]\n",
        "\n",
        "        if labels is not None:\n",
        "            loss = _calculate_loss(outputs, labels)\n",
        "        else:\n",
        "            # We don't use .loss here since the model may return tuples instead of ModelOutput.\n",
        "            loss = outputs[\"loss\"] if isinstance(outputs, dict) else outputs[0]\n",
        "            loss = loss.mean()\n",
        "        return (loss, outputs) if return_outputs else loss"
      ]
    },
    {
      "cell_type": "code",
      "execution_count": null,
      "metadata": {
        "id": "2bSq-17-bjlQ"
      },
      "outputs": [],
      "source": [
        "aswin = AstroSwin2SR.from_pretrained('aswin-1.2-checkpoint-900').to(device)\n",
        "processor = Swin2SRImageProcessor.from_pretrained('aswin-1.2-checkpoint-900')"
      ]
    },
    {
      "cell_type": "code",
      "execution_count": null,
      "metadata": {},
      "outputs": [],
      "source": [
        "transform = Compose([\n",
        "    lambda img: init_process(img, processor),\n",
        "    lambda img: img[0].transpose(2, 1, 0),\n",
        "    lambda img: random_downsample(img),\n",
        "    lambda img: to_tensor(img),\n",
        "    #lambda img: rotator(img),  -- excluded from linear data train pipeline, because random rotation affects autostretch in a very bad way\n",
        "    lambda img: crop(img),\n",
        "])"
      ]
    },
    {
      "cell_type": "code",
      "execution_count": null,
      "metadata": {
        "id": "sx1KoF75a7Vv"
      },
      "outputs": [],
      "source": [
        "train_dataset = AstroDataset('linear_data/train', processor, transform, is_linear=True, corrupt_dropout=0.05, noise_base_amount=0.0)\n",
        "eval_dataset = AstroDataset('linear_data/test', processor, transform, is_linear=True, corrupt_dropout=0.05, noise_base_amount=0.0)"
      ]
    },
    {
      "cell_type": "code",
      "execution_count": null,
      "metadata": {
        "id": "3nQJMT_D61Jl"
      },
      "outputs": [],
      "source": [
        "args = TrainingArguments(\n",
        "    output_dir='astro_model',\n",
        "    per_device_train_batch_size=1,\n",
        "    per_device_eval_batch_size=1,\n",
        "    learning_rate=2e-4,\n",
        "    gradient_checkpointing=False,\n",
        "    gradient_accumulation_steps=4,\n",
        "    num_train_epochs=12,\n",
        "    logging_steps=30,\n",
        "    logging_strategy='steps',\n",
        "    eval_steps=30,\n",
        "    eval_strategy='steps',\n",
        "    save_strategy='steps',\n",
        "    save_steps=60,\n",
        "    fp16=True,\n",
        "    report_to='none',\n",
        "    remove_unused_columns=False,\n",
        ")\n",
        "\n",
        "trainer = TrainerWithCustomLoss(\n",
        "    model=aswin,\n",
        "    args=args,\n",
        "    train_dataset=train_dataset,\n",
        "    eval_dataset=eval_dataset,\n",
        ")"
      ]
    },
    {
      "cell_type": "code",
      "execution_count": null,
      "metadata": {
        "colab": {
          "base_uri": "https://localhost:8080/",
          "height": 486
        },
        "id": "4L3Tx0U83eva",
        "outputId": "ed00fc7a-1d94-45a7-8a4d-c929787f55d0"
      },
      "outputs": [],
      "source": [
        "trainer.train()"
      ]
    },
    {
      "cell_type": "code",
      "execution_count": null,
      "metadata": {
        "colab": {
          "base_uri": "https://localhost:8080/"
        },
        "id": "NDvsc2TARkuU",
        "outputId": "a09da049-6b6d-41c5-f6da-e0905288f9b1"
      },
      "outputs": [],
      "source": [
        "aswin.save_pretrained('aswin-1.3-checkpoint-300')\n",
        "processor.save_pretrained('aswin-1.3-checkpoint-300')"
      ]
    },
    {
      "cell_type": "code",
      "execution_count": null,
      "metadata": {
        "colab": {
          "base_uri": "https://localhost:8080/"
        },
        "id": "xyWYX9Jd61Jo",
        "outputId": "4ead9578-fd32-4976-8c7a-cbc013a0e27a"
      },
      "outputs": [],
      "source": [
        "!zip -r astroswin_v1_3_checkpoint300.zip aswin-1.3-checkpoint-300/"
      ]
    },
    {
      "cell_type": "markdown",
      "metadata": {},
      "source": [
        "# Inference Example"
      ]
    },
    {
      "cell_type": "code",
      "execution_count": null,
      "metadata": {
        "id": "vnTS7zktX1Oa"
      },
      "outputs": [],
      "source": [
        "def tensor_to_pil(tensor: torch.Tensor):\n",
        "    np_values = tensor.numpy()[0]\n",
        "    np_values = np.clip(np_values, 0, 1)\n",
        "    np_values = np.moveaxis(np_values, source=0, destination=-1)\n",
        "    return np_values.astype(np.float32)\n",
        "\n",
        "@torch.no_grad()\n",
        "def terminate_blur(\n",
        "    image: np.ndarray, model: AstroSwin2SR, processor: Swin2SRImageProcessor, window: int = 256\n",
        "):\n",
        "    from tqdm import tqdm\n",
        "    from gc import collect\n",
        "\n",
        "    def create_weight_mask(size, overlap):\n",
        "        mask = torch.ones(1, 1, size + 2 * overlap, size + 2 * overlap)\n",
        "        fade = torch.linspace(0, 1, overlap)\n",
        "\n",
        "        # vertical borders\n",
        "        mask[..., :overlap, :] *= fade.view(1, 1, -1, 1)\n",
        "        mask[..., -overlap:, :] *= fade.flip(0).view(1, 1, -1, 1)\n",
        "\n",
        "        # horizontal borders\n",
        "        mask[..., :, :overlap] *= fade.view(1, 1, 1, -1)\n",
        "        mask[..., :, -overlap:] *= fade.flip(0).view(1, 1, 1, -1)\n",
        "        return mask.to(device)\n",
        "\n",
        "    pad = 32\n",
        "    pad_based_width, pad_based_height = (image.shape[1] // window + 1) * window, (image.shape[0] // window + 1) * window\n",
        "\n",
        "    img_tensor = processor(image, do_rescale=False, return_tensors='pt').pixel_values.to(device)\n",
        "    pad_based_img = torch.zeros(1, 3, pad_based_height, pad_based_width).to(device)\n",
        "    pad_based_img[:, :, :img_tensor.shape[-2], :img_tensor.shape[-1]] += img_tensor\n",
        "    target = torch.zeros_like(pad_based_img)\n",
        "    weight_sum = torch.zeros_like(target)\n",
        "    weight_mask = create_weight_mask(window, pad)\n",
        "\n",
        "    for x in tqdm(range(0, pad_based_width, window)):\n",
        "        for y in range(0, pad_based_height, window):\n",
        "            # calculate coordinates\n",
        "            x_from = max(0, x - pad)\n",
        "            y_from = max(0, y - pad)\n",
        "            x_to = x + min(window + pad, pad_based_width - x)\n",
        "            y_to = y + min(window + pad, pad_based_height - y)\n",
        "            # pass patch through model\n",
        "            patch_tensor = pad_based_img[:, :, y_from:y_to, x_from:x_to]\n",
        "            outputs = model(pixel_values=patch_tensor)['outputs'].detach()\n",
        "            # apply mask\n",
        "            mask_x_from = 0 if x_from - pad >= 0 else pad # 0 если маска и патч влезают полностью; pad, если нужно кропнуть\n",
        "            mask_y_from = 0 if y_from - pad >= 0 else pad\n",
        "            mask_x_to = window + 2 * pad if x_to + pad <= pad_based_width else window + pad # win+2pad если маска влезает справа полностью; win+pad, если нужно кропнуть\n",
        "            mask_y_to = window + 2 * pad if y_to + pad <= pad_based_height else window + pad\n",
        "            # add patch\n",
        "            cropped_mask = weight_mask[:, :, mask_y_from:mask_y_to, mask_x_from:mask_x_to]\n",
        "            target[:, :, y_from:y_to, x_from:x_to] += outputs * cropped_mask\n",
        "            weight_sum[:, :, y_from:y_to, x_from:x_to] += cropped_mask\n",
        "            # remove tmp tensor\n",
        "            del outputs\n",
        "        # forced memory clean up\n",
        "        collect()\n",
        "        torch.cuda.empty_cache()\n",
        "    target /= weight_sum.clamp(min=1e-6)\n",
        "    return target.detach().cpu()[:, :, :image.shape[0], :image.shape[1]]"
      ]
    },
    {
      "cell_type": "code",
      "execution_count": null,
      "metadata": {
        "id": "vJpZdwTYX5nj"
      },
      "outputs": [],
      "source": [
        "img = cv2.imread('test.tif', cv2.IMREAD_UNCHANGED)\n",
        "\n",
        "stretch_res = autostretch_torch(torch.Tensor(img))\n",
        "processed_tensor = terminate_blur(stretch_res['labels'].numpy(), aswin, processor)\n",
        "\n",
        "scale, gamma = stretch_res['scale'], stretch_res['gamma']\n",
        "im_min, im_max = stretch_res['min'], stretch_res['max']\n",
        "linear_tensor = (processed_tensor[0].permute(1,2,0) ** (1/gamma) / scale) * (im_max - im_min) + im_min\n",
        "res = np.clip(linear_tensor.numpy(), 0, 1)\n",
        "\n",
        "cv2.imwrite('test_processed.tif', res.astype(np.float32), [cv2.IMWRITE_TIFF_COMPRESSION, 0])"
      ]
    }
  ],
  "metadata": {
    "accelerator": "GPU",
    "colab": {
      "gpuType": "T4",
      "provenance": []
    },
    "kernelspec": {
      "display_name": "Python 3",
      "name": "python3"
    },
    "language_info": {
      "name": "python"
    }
  },
  "nbformat": 4,
  "nbformat_minor": 0
}
