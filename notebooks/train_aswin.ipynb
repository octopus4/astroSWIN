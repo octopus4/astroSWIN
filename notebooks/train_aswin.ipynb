{
  "cells": [
    {
      "cell_type": "code",
      "execution_count": null,
      "metadata": {
        "colab": {
          "base_uri": "https://localhost:8080/"
        },
        "collapsed": true,
        "id": "CkGWkZ-1MY3t",
        "outputId": "874277a9-eb01-47ae-e314-d219d14b184e"
      },
      "outputs": [],
      "source": [
        "!gdown 10ZR4X57PoqXunGMFig4cWo9Ef7X1uz3m -O astroswin.zip && unzip -qq astroswin.zip && rm -rf astroswin.zip\n",
        "!gdown 1v1HvfuoQPMprDa5FgRvjRMlwIwt5mp84 -O dataset.zip && unzip -qq dataset.zip && rm -f dataset.zip"
      ]
    },
    {
      "cell_type": "code",
      "execution_count": null,
      "metadata": {
        "id": "GJQyTfQY61Jf"
      },
      "outputs": [],
      "source": [
        "import os\n",
        "import random\n",
        "import torch\n",
        "import torch.nn.functional as F\n",
        "\n",
        "from gc import collect\n",
        "from PIL import Image\n",
        "from torch.utils.data import Dataset\n",
        "from torchvision.transforms.v2 import RandomCrop, GaussianBlur, Compose, RandomRotation\n",
        "from transformers import Swin2SRForImageSuperResolution, Swin2SRImageProcessor, Trainer, TrainingArguments"
      ]
    },
    {
      "cell_type": "code",
      "execution_count": null,
      "metadata": {
        "id": "DDeOCRJE61Jh"
      },
      "outputs": [],
      "source": [
        "device = torch.device('cuda')\n",
        "Image.MAX_IMAGE_PIXELS = None"
      ]
    },
    {
      "cell_type": "code",
      "execution_count": null,
      "metadata": {
        "id": "xKEqALua61Jh"
      },
      "outputs": [],
      "source": [
        "def random_downsample(image):\n",
        "    base_dim = 256\n",
        "    min_dim = min(image.width, image.height)\n",
        "    downscale_range = min_dim // base_dim\n",
        "    downscale_mul = random.randint(1, downscale_range) if downscale_range > 1 else 1\n",
        "    return image.resize(\n",
        "        (image.width // downscale_mul, image.height // downscale_mul),\n",
        "        Image.Resampling.BICUBIC\n",
        "    )\n",
        "\n",
        "rotator = RandomRotation(90)\n",
        "crop = RandomCrop((256, 256))\n",
        "\n",
        "transform = Compose([\n",
        "    lambda img: img.convert('RGB'),\n",
        "    lambda img: random_downsample(img),\n",
        "    lambda img: rotator(img),\n",
        "    lambda img: crop(img),\n",
        "])"
      ]
    },
    {
      "cell_type": "code",
      "execution_count": null,
      "metadata": {
        "id": "hCjAnifW61Ji"
      },
      "outputs": [],
      "source": [
        "def sharp_loss(pred: torch.Tensor, target: torch.Tensor, alpha: float = 0.7):\n",
        "    content_loss = F.l1_loss(pred, target)\n",
        "    laplacian_kernel = torch.tensor([\n",
        "        [0, 1, 0],\n",
        "        [1, -4, 1],\n",
        "        [0, 1, 0]\n",
        "    ], dtype=torch.float32).view(1, 1, 3, 3).repeat(1, 3, 1, 1).to(pred.device)\n",
        "    pred_edges = F.conv2d(pred, laplacian_kernel, padding=1)\n",
        "    target_edges = F.conv2d(target, laplacian_kernel, padding=1)\n",
        "    edge_loss = F.l1_loss(pred_edges, target_edges)\n",
        "\n",
        "    return alpha * content_loss + (1 - alpha) * edge_loss\n",
        "\n",
        "def gradient_loss(pred: torch.Tensor, target: torch.Tensor, temperature: float = 1):\n",
        "    pred_grad_x = pred[:, :, :, :-1] - pred[:, :, :, 1:]\n",
        "    pred_grad_y = pred[:, :, :-1, :] - pred[:, :, 1:, :]\n",
        "    target_grad_x = target[:, :, :, :-1] - target[:, :, :, 1:]\n",
        "    target_grad_y = target[:, :, :-1, :] - target[:, :, 1:, :]\n",
        "\n",
        "    mask_x = F.sigmoid((target_grad_x - 0.5) / temperature)\n",
        "    mask_y = F.sigmoid((target_grad_y - 0.5) / temperature)\n",
        "\n",
        "    loss_x = mask_x * F.l1_loss(pred_grad_x, target_grad_x)\n",
        "    loss_y = mask_y * F.l1_loss(pred_grad_y, target_grad_y)\n",
        "    return (loss_x.mean() + loss_y.mean()) / 2\n",
        "\n",
        "def hist_loss(pred: torch.Tensor, target: torch.Tensor, bandwidth: float = 0.1) -> torch.Tensor:\n",
        "    def differentiable_histogram(\n",
        "        x: torch.Tensor, bins: int = 256, bandwidth: float = 0.01\n",
        "    ) -> torch.Tensor:\n",
        "        batch_size, channels = x.shape[0], x.shape[1]\n",
        "        bin_centers = torch.linspace(0, 1, bins, device=x.device)  # [bins]\n",
        "        x_flat = x.view(batch_size, channels, -1, 1)  # [B, C, H*W, 1]\n",
        "        distances = torch.abs(x_flat - bin_centers)    # [B, C, H*W, bins]\n",
        "        weights = torch.clamp(1 - distances / bandwidth, 0, 1)\n",
        "        hist = torch.sum(weights, dim=2)  # [B, C, bins]\n",
        "        return hist / (x.shape[2] * x.shape[3])  # normalize\n",
        "\n",
        "    hist_pred = differentiable_histogram(pred, bandwidth=bandwidth)\n",
        "    hist_target = differentiable_histogram(target, bandwidth=bandwidth)\n",
        "\n",
        "    return F.l1_loss(hist_pred, hist_target)"
      ]
    },
    {
      "cell_type": "code",
      "execution_count": null,
      "metadata": {
        "id": "Ur4yuSc861Ji"
      },
      "outputs": [],
      "source": [
        "def motion_blur(image: torch.Tensor, length: int = 15, angle: float = 0.0) -> torch.Tensor:\n",
        "    def _get_motion_kernel(length: int, angle_deg: float) -> torch.Tensor:\n",
        "        import math\n",
        "        angle = math.radians(angle_deg)\n",
        "        length |= 1  # make odd to have odd-sized kernel\n",
        "        kernel = torch.zeros((length, length))\n",
        "        center = length // 2\n",
        "\n",
        "        for i in range(length):\n",
        "            dx = i - center\n",
        "            dy = round(math.tan(angle) * dx)\n",
        "            y = center + dy\n",
        "            if 0 <= y < length:\n",
        "                kernel[y, i] = 1.0\n",
        "\n",
        "        kernel /= kernel.sum()\n",
        "        return kernel.view(1, 1, length, length).repeat(3, 1, 1, 1)\n",
        "\n",
        "    kernel = _get_motion_kernel(length, angle)\n",
        "    return F.conv2d(\n",
        "        image,\n",
        "        kernel,\n",
        "        padding=length // 2,\n",
        "        groups=image.shape[1],\n",
        "    )\n",
        "\n",
        "def bokeh_blur(image: torch.Tensor, radius: int = 3) -> torch.Tensor:\n",
        "    kernel_size = 2 * radius + 1\n",
        "    kernel = torch.zeros((kernel_size, kernel_size))\n",
        "    y, x = torch.meshgrid(\n",
        "        torch.linspace(-radius, radius, kernel_size),\n",
        "        torch.linspace(-radius, radius, kernel_size),\n",
        "        indexing='ij',\n",
        "    )\n",
        "    mask = (x**2 + y**2) <= radius**2\n",
        "    kernel[mask] = 1.0\n",
        "    kernel /= kernel.sum()\n",
        "    return F.conv2d(\n",
        "        image,\n",
        "        kernel.view(1, 1, kernel_size, kernel_size).repeat(3, 1, 1, 1),\n",
        "        padding=kernel_size//2,\n",
        "        groups=image.shape[1]\n",
        "    )\n",
        "\n",
        "def anisotropic_gaussian_blur(\n",
        "    image: torch.Tensor,\n",
        "    sigma_x: float = 1.0,\n",
        "    sigma_y: float = 1.0,\n",
        "    angle: float = 0.0\n",
        ") -> torch.Tensor:\n",
        "    def _get_rotated_gaussian_kernel(sigma_x, sigma_y, angle_deg, kernel_size):\n",
        "        import math\n",
        "        angle = math.radians(angle_deg)\n",
        "        x = torch.linspace(-kernel_size//2, kernel_size//2, kernel_size)\n",
        "        y = torch.linspace(-kernel_size//2, kernel_size//2, kernel_size)\n",
        "        x, y = torch.meshgrid(x, y, indexing='ij')\n",
        "\n",
        "        x_rot = x * math.cos(angle) + y * math.sin(angle)\n",
        "        y_rot = -x * math.sin(angle) + y * math.cos(angle)\n",
        "\n",
        "        kernel = torch.exp(-(x_rot**2 / (2 * sigma_x**2) + y_rot**2 / (2 * sigma_y**2)))\n",
        "        kernel = kernel / kernel.sum()\n",
        "        return kernel.view(1, 1, kernel_size, kernel_size).repeat(3, 1, 1, 1)  # [C, 1, H, W]\n",
        "\n",
        "    kernel_size = int(2 * 3 * max(sigma_x, sigma_y) + 1) | 1  # make odd to have odd sized kernel\n",
        "    kernel = _get_rotated_gaussian_kernel(sigma_x, sigma_y, angle, kernel_size)\n",
        "\n",
        "    return F.conv2d(\n",
        "        image,\n",
        "        kernel,\n",
        "        padding=kernel_size//2,\n",
        "        groups=image.shape[1]\n",
        "    )"
      ]
    },
    {
      "cell_type": "code",
      "execution_count": null,
      "metadata": {
        "id": "mGOzPb3361Jj"
      },
      "outputs": [],
      "source": [
        "gaussian_blur = GaussianBlur(kernel_size=3, sigma=2.0)\n",
        "\n",
        "blur_functions = [\n",
        "    lambda x: gaussian_blur(x),\n",
        "    lambda x: motion_blur(x, length=random.randint(2, 5), angle=random.randint(0, 360)),\n",
        "    lambda x: anisotropic_gaussian_blur(\n",
        "        x,\n",
        "        sigma_x=random.randint(1, 3),\n",
        "        sigma_y=random.randint(1, 3),\n",
        "        angle=random.randint(0, 360),\n",
        "    ),\n",
        "    lambda x: bokeh_blur(x,radius=random.randint(3, 6)),\n",
        "]"
      ]
    },
    {
      "cell_type": "code",
      "execution_count": null,
      "metadata": {
        "id": "W6odUp_a61Jk"
      },
      "outputs": [],
      "source": [
        "class AstroDataset(Dataset):\n",
        "    def __init__(\n",
        "        self,\n",
        "        root_dir,\n",
        "        processor,\n",
        "        transform,\n",
        "        corrupt_dropout=0.05,\n",
        "        noise_base_amount=0.2,\n",
        "        **kwargs\n",
        "    ):\n",
        "        super().__init__(**kwargs)\n",
        "        self.root_dir = root_dir\n",
        "        self.image_paths = [\n",
        "            os.path.join(root_dir, f)\n",
        "            for f in os.listdir(root_dir)\n",
        "            if f.endswith(('jpg', 'png', 'tiff', 'jpeg')) and min(Image.open(os.path.join(root_dir, f)).size) >= 256\n",
        "        ]\n",
        "        self.corrupt_dropout = corrupt_dropout\n",
        "        self.noise_base_amount = noise_base_amount\n",
        "        self.processor = processor\n",
        "        self.transform = transform\n",
        "\n",
        "    def __len__(self):\n",
        "        return len(self.image_paths)\n",
        "\n",
        "    def _corrupt(self, image: torch.Tensor):\n",
        "        if random.random() < self.corrupt_dropout:\n",
        "            return image\n",
        "        blur_composition = random.choices(blur_functions, k=random.randint(2, len(blur_functions)))\n",
        "        for blur in blur_composition:\n",
        "            image = blur(image)\n",
        "        return image + torch.randn(image.shape) * random.random() * self.noise_base_amount\n",
        "\n",
        "    def __getitem__(self, idx):\n",
        "        img_path = self.image_paths[idx]\n",
        "        image = Image.open(img_path).convert('RGB')\n",
        "        image = self.transform(image)\n",
        "        image_tensor = self.processor(image, return_tensors='pt')['pixel_values']\n",
        "        corrupted_tensor = self._corrupt(image_tensor.clone().detach())\n",
        "        return {\n",
        "            'pixel_values': corrupted_tensor[0],\n",
        "            'labels': image_tensor[0],\n",
        "        }\n",
        "\n",
        "\n",
        "class AstroSwin2SR(Swin2SRForImageSuperResolution):\n",
        "    def __init__(self, config):\n",
        "        super().__init__(config)\n",
        "        del self.upsample\n",
        "        self.resample = torch.nn.Conv2d(60, 3, kernel_size=(3, 3), stride=(1, 1), padding=(1, 1))\n",
        "\n",
        "    def forward(self, pixel_values: torch.Tensor, labels: torch.Tensor = None):\n",
        "        output = self.swin2sr(pixel_values=pixel_values)\n",
        "        output = self.resample(output.last_hidden_state)\n",
        "        return {'outputs': output}"
      ]
    },
    {
      "cell_type": "code",
      "execution_count": null,
      "metadata": {
        "id": "FjDhBC3Q61Jk"
      },
      "outputs": [],
      "source": [
        "class TrainerWithCustomLoss(Trainer):\n",
        "    def compute_loss(self, model, inputs, return_outputs=False, **kwargs):\n",
        "        \"\"\"\n",
        "        How the loss is computed by Trainer. By default, all models return the loss in the first element.\n",
        "\n",
        "        Subclass and override for custom behavior.\n",
        "        \"\"\"\n",
        "        if 'labels' in inputs:\n",
        "            labels = inputs.pop('labels')\n",
        "        else:\n",
        "            labels = None\n",
        "        outputs = model(**inputs)['outputs']\n",
        "        # Save past state if it exists\n",
        "        # TODO: this needs to be fixed and made cleaner later.\n",
        "        if self.args.past_index >= 0:\n",
        "            self._past = outputs[self.args.past_index]\n",
        "\n",
        "        if labels is not None:\n",
        "            h_loss = hist_loss(outputs, labels, bandwidth=5e-2)\n",
        "            g_loss = gradient_loss(outputs, labels, temperature=0.5)\n",
        "            d_loss = sharp_loss(outputs, labels)\n",
        "            loss = d_loss * 2.0 + g_loss * 1.0 + h_loss * 1.0\n",
        "        else:\n",
        "            # We don't use .loss here since the model may return tuples instead of ModelOutput.\n",
        "            loss = outputs[\"loss\"] if isinstance(outputs, dict) else outputs[0]\n",
        "            loss = loss.mean()\n",
        "        return (loss, outputs) if return_outputs else loss"
      ]
    },
    {
      "cell_type": "code",
      "execution_count": null,
      "metadata": {
        "id": "8zOpdm6l61Jl"
      },
      "outputs": [],
      "source": [
        "aswin = AstroSwin2SR.from_pretrained('astroswin_v7').to(device)\n",
        "processor = Swin2SRImageProcessor.from_pretrained('astroswin_v7')"
      ]
    },
    {
      "cell_type": "code",
      "execution_count": null,
      "metadata": {
        "id": "Sj4XCLCWT4Sd"
      },
      "outputs": [],
      "source": [
        "collect()\n",
        "torch.cuda.empty_cache()"
      ]
    },
    {
      "cell_type": "code",
      "execution_count": null,
      "metadata": {
        "id": "02k0mqkH61Jl"
      },
      "outputs": [],
      "source": [
        "train_dataset = AstroDataset('hq_images/train', processor, transform, corrupt_dropout=0.1, noise_base_amount=0.1)\n",
        "eval_dataset = AstroDataset('hq_images/test', processor, transform, corrupt_dropout=0.1, noise_base_amount=0.1)"
      ]
    },
    {
      "cell_type": "code",
      "execution_count": null,
      "metadata": {
        "id": "3nQJMT_D61Jl"
      },
      "outputs": [],
      "source": [
        "args = TrainingArguments(\n",
        "    output_dir='astro_model',\n",
        "    per_device_train_batch_size=1,\n",
        "    per_device_eval_batch_size=1,\n",
        "    learning_rate=1e-5,\n",
        "    gradient_checkpointing=False,\n",
        "    gradient_accumulation_steps=4,\n",
        "    num_train_epochs=4,\n",
        "    logging_steps=15,\n",
        "    logging_strategy='steps',\n",
        "    eval_steps=100,\n",
        "    eval_strategy='steps',\n",
        "    fp16=True,\n",
        "    report_to='none',\n",
        ")\n",
        "\n",
        "trainer = TrainerWithCustomLoss(\n",
        "    model=aswin,\n",
        "    args=args,\n",
        "    train_dataset=train_dataset,\n",
        "    eval_dataset=eval_dataset,\n",
        ")"
      ]
    },
    {
      "cell_type": "code",
      "execution_count": null,
      "metadata": {
        "colab": {
          "base_uri": "https://localhost:8080/",
          "height": 392
        },
        "id": "B4D4lxVK61Jm",
        "outputId": "f072cc5d-71df-4fad-870f-9af9069cc07a"
      },
      "outputs": [],
      "source": [
        "trainer.train()"
      ]
    },
    {
      "cell_type": "code",
      "execution_count": null,
      "metadata": {
        "colab": {
          "base_uri": "https://localhost:8080/"
        },
        "id": "AetN8-zg61Jn",
        "outputId": "966b2ca8-b635-4940-9a17-560c87d9d64d"
      },
      "outputs": [],
      "source": [
        "aswin.save_pretrained('astroswin_v1')\n",
        "processor.save_pretrained('astroswin_v1')"
      ]
    },
    {
      "cell_type": "code",
      "execution_count": null,
      "metadata": {
        "colab": {
          "base_uri": "https://localhost:8080/"
        },
        "id": "xyWYX9Jd61Jo",
        "outputId": "7bf916c9-b812-45b8-e811-98b88b4e048c"
      },
      "outputs": [],
      "source": [
        "!zip -r astroswin_v1.zip astroswin_v1/"
      ]
    },
    {
      "cell_type": "code",
      "execution_count": null,
      "metadata": {
        "id": "IbG56yCbkhz0"
      },
      "outputs": [],
      "source": []
    }
  ],
  "metadata": {
    "accelerator": "GPU",
    "colab": {
      "gpuType": "T4",
      "provenance": []
    },
    "kernelspec": {
      "display_name": "python3.12",
      "language": "python",
      "name": "python3.12"
    },
    "language_info": {
      "codemirror_mode": {
        "name": "ipython",
        "version": 3
      },
      "file_extension": ".py",
      "mimetype": "text/x-python",
      "name": "python",
      "nbconvert_exporter": "python",
      "pygments_lexer": "ipython3",
      "version": "3.12.5"
    }
  },
  "nbformat": 4,
  "nbformat_minor": 0
}
